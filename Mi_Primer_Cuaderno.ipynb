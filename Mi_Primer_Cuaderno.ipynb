{
  "nbformat": 4,
  "nbformat_minor": 0,
  "metadata": {
    "colab": {
      "name": "Mi_Primer_Cuaderno.ipynb",
      "provenance": [],
      "collapsed_sections": [],
      "include_colab_link": true
    },
    "kernelspec": {
      "display_name": "Python 3",
      "language": "python",
      "name": "python3"
    },
    "language_info": {
      "codemirror_mode": {
        "name": "ipython",
        "version": 3
      },
      "file_extension": ".py",
      "mimetype": "text/x-python",
      "name": "python",
      "nbconvert_exporter": "python",
      "pygments_lexer": "ipython3",
      "version": "3.8.5"
    }
  },
  "cells": [
    {
      "cell_type": "markdown",
      "metadata": {
        "id": "view-in-github",
        "colab_type": "text"
      },
      "source": [
        "<a href=\"https://colab.research.google.com/github/javiermartinez151961/Diplomado/blob/master/Mi_Primer_Cuaderno.ipynb\" target=\"_parent\"><img src=\"https://colab.research.google.com/assets/colab-badge.svg\" alt=\"Open In Colab\"/></a>"
      ]
    },
    {
      "cell_type": "markdown",
      "metadata": {
        "id": "nDtb1VN0hC1z"
      },
      "source": [
        "# La Nostalgia del Melomano\n",
        "\n",
        "\n",
        "\n"
      ]
    },
    {
      "cell_type": "markdown",
      "metadata": {
        "id": "OkQfP3Ujou9S"
      },
      "source": [
        "## Este es mi libro favorito (al menos de los mas recientes)\n",
        "[Venta en CamLibro](https://camlibro.com.co/reading_colombia/editoriales/icono/la-nostalgia-del-melomano/)\n",
        "\n",
        "![La Nostalgia del Melomano](http://webs.ucm.es/info/especulo/numero32/garay1.jpg)\n",
        "\n",
        "\n",
        "*Que tu nunca podras abarcar la musica en un solo instante que tienes que esperar mientras transcurre, ir escuchando una nota detras de la otra*\n",
        "\n",
        "**Que tu nunca podras abarcar la musica en un solo instante que tienes que esperar mientras transcurre, ir escuchando una nota detras de la otra**\n",
        "\n",
        "***Que tu nunca podras abarcar la musica en un solo instante que tienes que esperar mientras transcurre, ir escuchando una nota detras de la otra***\n",
        "> Ese dia no visite a Cocodrilo Disco\n",
        ">> Prueba de Indentacion\n",
        "\n",
        "[Como Aprender Markdown](https://www.markdownguide.org/basic-syntax)\n",
        "\n",
        "\n"
      ]
    },
    {
      "cell_type": "markdown",
      "metadata": {
        "id": "gZUgZ27juKHE"
      },
      "source": [
        "# Lenguaje LaTeX\n",
        "\n"
      ]
    },
    {
      "cell_type": "markdown",
      "metadata": {
        "id": "_Ajem7jBuP0n"
      },
      "source": [
        "El Lenguaje LaTeX se usa para colocar ecuaciones matematicas de forma profesional...\n",
        "\n",
        "Es el lenguaje usado por la mayoria de los cientificos en el mundo.\n",
        "\n",
        "$$y=x^2$$\n",
        "\n",
        "$$\\frac{dC}{dt}=kC$$\n",
        "\n"
      ]
    },
    {
      "cell_type": "markdown",
      "metadata": {
        "id": "nCyBVGnXwlWm",
        "outputId": "97ef0351-65d3-48bd-fc0b-5a3cfe3f88ca"
      },
      "source": [
        ""
      ]
    },
    {
      "cell_type": "code",
      "metadata": {
        "colab": {
          "base_uri": "https://localhost:8080/"
        },
        "id": "vlqHJtEtqyfc",
        "outputId": "7a0bd755-9f15-440c-f6f8-606f61eaa67c"
      },
      "source": [
        "print(\"Hello friend... Hello friend?\")\n"
      ],
      "execution_count": null,
      "outputs": [
        {
          "output_type": "stream",
          "text": [
            "Hello friend... Hello friend?\n"
          ],
          "name": "stdout"
        }
      ]
    },
    {
      "cell_type": "code",
      "metadata": {
        "id": "a-3WEg2QpEzA"
      },
      "source": [
        "# Recomendaciones Clase\n",
        "\n"
      ],
      "execution_count": null,
      "outputs": []
    },
    {
      "cell_type": "markdown",
      "metadata": {
        "id": "f6BLbn0wpzie"
      },
      "source": [
        "[Como aprender MarkDown](https://www.markdownguide.org/)\n",
        "\n",
        "[multiplicación de matrices](http://webs.ucm.es/info/especulo/numero32/garay1.jpg)\n",
        "\n",
        "[Los videos del día de hoy](https://www.youtube.com/watch?v=bFDfM6fZXq8)\n",
        "(https://www.youtube.com/watch?v=bjgZczRUL-s)\n",
        "\n",
        "[productos Kronoker](https://external-content.duckduckgo.com/iu/?u=https%3A%2F%2Fwww.cc.gatech.edu%2F~san37%2Fimg%2Fdl%2Ftensor.png&f=1&nofb=1)\n",
        "\n",
        "[Teorema Aproximacion Universal](https://en.wikipedia.org/wiki/Universal_approximation_theorem)\n",
        "\n",
        "(https://jamboard.google.com/d/1YU8dOzOakHPZWBt9tvrhA5sqRrS958xlTwShbe9dZqQ/edit?usp=meet_whiteboard)\n",
        "\n",
        "[Funcion de Activacion](https://en.wikipedia.org/wiki/Activation_function)\n",
        "\n",
        "[Multiplicacion de Matrices](http://matrixmultiplication.xyz/)\n",
        "\n",
        "[Grabaciones de las Clases](https://drive.google.com/drive/u/0/folders/14xBvpQaNlgZVq0IPP_XeakWv9CVH_RhS)\n",
        "\n",
        "[Algebra Lineal](https://www.youtube.com/watch?v=bjgZczRUL-s)\n",
        "\n",
        "[Ejemplo de fotos](https://external-content.duckduckgo.com/iu/?u=http%3A%2F%2Fwebstyleguide.com%2Fwsg1%2Fgraphics%2Fgraphics%2Frgb_image_layers.gif&f=1&nofb=1)\n",
        "\n",
        "[Filtros de Imagenes](https://external-content.duckduckgo.com/iu/?u=https%3A%2F%2Fmiro.medium.com%2Fmax%2F1038%2F1*4lPMjSPaS2JLWZAaYrXr2Q.jpeg&f=1&nofb=1)\n",
        "\n",
        "(https://external-content.duckduckgo.com/iu/?u=https%3A%2F%2Fuser-images.githubusercontent.com%2F14825164%2F30440190-62d6f7e4-99a8-11e7-8217-cba3eb4ff5f5.png&f=1&nofb=1)\n",
        "\n",
        "[link del livestream de mañana a las 11](https://www.youtube.com/watch?v=9p8d_gMrZY0)\n",
        "\n",
        "(https://github.com/AprendizajeProfundo/Diplomado/blob/master/Temas/M%C3%B3dulo%207-%20Aprendizaje%20Profundo%20I/3.%20Tratamiendo%20de%20im%C3%A1genes/Imagenes/Mila.jpg)"
      ]
    },
    {
      "cell_type": "markdown",
      "metadata": {
        "id": "MS7lmg4neSEb"
      },
      "source": [
        "# Cosito\n"
      ]
    },
    {
      "cell_type": "code",
      "metadata": {
        "id": "g5xkivGzeSEb"
      },
      "source": [
        ""
      ],
      "execution_count": null,
      "outputs": []
    }
  ]
}